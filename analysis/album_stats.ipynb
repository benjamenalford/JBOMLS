{
 "cells": [
  {
   "cell_type": "code",
   "execution_count": 40,
   "metadata": {},
   "outputs": [],
   "source": [
    "import pandas as pd"
   ]
  },
  {
   "cell_type": "code",
   "execution_count": 41,
   "metadata": {},
   "outputs": [],
   "source": [
    "playlist_file = \"MP3.tsv\"\n",
    "music_df = pd.read_csv(playlist_file,encoding=\"utf_16_le\",sep=\"\\t\")"
   ]
  },
  {
   "cell_type": "code",
   "execution_count": 42,
   "metadata": {},
   "outputs": [],
   "source": [
    "del music_df['Composer']\n",
    "del music_df['Grouping']\n",
    "del music_df['Work']\n",
    "del music_df['Movement Number']\n",
    "del music_df['Movement Count']\n",
    "del music_df['Movement Name']\n",
    "del music_df['Genre']\n",
    "del music_df['Size']\n",
    "del music_df['Time']\n",
    "del music_df['Year']\n",
    "del music_df['Date Added']\n",
    "del music_df['Date Modified']\n",
    "del music_df['Bit Rate']\n",
    "del music_df['Sample Rate']\n",
    "del music_df['Volume Adjustment']\n",
    "del music_df['Equalizer']\n",
    "del music_df['Comments']\n",
    "del music_df['Plays']\n",
    "del music_df['Last Played']\n",
    "del music_df['Skips']\n",
    "del music_df['Last Skipped']\n",
    "del music_df['My Rating']\n",
    "del music_df['Location']"
   ]
  },
  {
   "cell_type": "code",
   "execution_count": 44,
   "metadata": {},
   "outputs": [],
   "source": [
    "music_df['Disc Count'] = music_df['Disc Count'].fillna(0)\n",
    "music_df['Disc Count'] = music_df['Disc Count'].astype(int)\n",
    "music_df['Disc Number'] = music_df['Disc Number'].fillna(0)\n",
    "music_df['Disc Number'] = music_df['Disc Number'].astype(int)\n",
    "music_df['Track Count'] = music_df['Track Count'].fillna(0)\n",
    "music_df['Track Count'] = music_df['Track Count'].astype(int)\n",
    "music_df['Track Number'] = music_df['Track Number'].fillna(0)\n",
    "music_df['Track Number'] = music_df['Track Number'].astype(int)"
   ]
  },
  {
   "cell_type": "code",
   "execution_count": 46,
   "metadata": {},
   "outputs": [
    {
     "data": {
      "text/html": [
       "<div>\n",
       "<style scoped>\n",
       "    .dataframe tbody tr th:only-of-type {\n",
       "        vertical-align: middle;\n",
       "    }\n",
       "\n",
       "    .dataframe tbody tr th {\n",
       "        vertical-align: top;\n",
       "    }\n",
       "\n",
       "    .dataframe thead th {\n",
       "        text-align: right;\n",
       "    }\n",
       "</style>\n",
       "<table border=\"1\" class=\"dataframe\">\n",
       "  <thead>\n",
       "    <tr style=\"text-align: right;\">\n",
       "      <th></th>\n",
       "      <th>Name</th>\n",
       "      <th>Artist</th>\n",
       "      <th>Album</th>\n",
       "      <th>Disc Number</th>\n",
       "      <th>Disc Count</th>\n",
       "      <th>Track Number</th>\n",
       "      <th>Track Count</th>\n",
       "      <th>Kind</th>\n",
       "    </tr>\n",
       "  </thead>\n",
       "  <tbody>\n",
       "    <tr>\n",
       "      <th>0</th>\n",
       "      <td>What I Like About You</td>\n",
       "      <td>A‐Ha</td>\n",
       "      <td>Hunting High and Low</td>\n",
       "      <td>1</td>\n",
       "      <td>1</td>\n",
       "      <td>1</td>\n",
       "      <td>10</td>\n",
       "      <td>MPEG audio file</td>\n",
       "    </tr>\n",
       "    <tr>\n",
       "      <th>1</th>\n",
       "      <td>The Sun Always Shines on T.V.</td>\n",
       "      <td>A‐Ha</td>\n",
       "      <td>Hunting High and Low</td>\n",
       "      <td>1</td>\n",
       "      <td>1</td>\n",
       "      <td>2</td>\n",
       "      <td>19</td>\n",
       "      <td>MPEG audio file</td>\n",
       "    </tr>\n",
       "    <tr>\n",
       "      <th>2</th>\n",
       "      <td>Train of Thought</td>\n",
       "      <td>A‐Ha</td>\n",
       "      <td>Hunting High and Low</td>\n",
       "      <td>1</td>\n",
       "      <td>1</td>\n",
       "      <td>3</td>\n",
       "      <td>19</td>\n",
       "      <td>MPEG audio file</td>\n",
       "    </tr>\n",
       "    <tr>\n",
       "      <th>3</th>\n",
       "      <td>Hunting High and Low</td>\n",
       "      <td>A‐Ha</td>\n",
       "      <td>Hunting High and Low</td>\n",
       "      <td>1</td>\n",
       "      <td>1</td>\n",
       "      <td>4</td>\n",
       "      <td>19</td>\n",
       "      <td>MPEG audio file</td>\n",
       "    </tr>\n",
       "    <tr>\n",
       "      <th>4</th>\n",
       "      <td>I've Been Losing You</td>\n",
       "      <td>A‐Ha</td>\n",
       "      <td>Hunting High and Low</td>\n",
       "      <td>1</td>\n",
       "      <td>1</td>\n",
       "      <td>5</td>\n",
       "      <td>19</td>\n",
       "      <td>MPEG audio file</td>\n",
       "    </tr>\n",
       "  </tbody>\n",
       "</table>\n",
       "</div>"
      ],
      "text/plain": [
       "                            Name Artist                 Album  Disc Number  \\\n",
       "0          What I Like About You   A‐Ha  Hunting High and Low            1   \n",
       "1  The Sun Always Shines on T.V.   A‐Ha  Hunting High and Low            1   \n",
       "2               Train of Thought   A‐Ha  Hunting High and Low            1   \n",
       "3           Hunting High and Low   A‐Ha  Hunting High and Low            1   \n",
       "4           I've Been Losing You   A‐Ha  Hunting High and Low            1   \n",
       "\n",
       "   Disc Count  Track Number  Track Count             Kind  \n",
       "0           1             1           10  MPEG audio file  \n",
       "1           1             2           19  MPEG audio file  \n",
       "2           1             3           19  MPEG audio file  \n",
       "3           1             4           19  MPEG audio file  \n",
       "4           1             5           19  MPEG audio file  "
      ]
     },
     "execution_count": 46,
     "metadata": {},
     "output_type": "execute_result"
    }
   ],
   "source": [
    "music_df.head()"
   ]
  },
  {
   "cell_type": "code",
   "execution_count": null,
   "metadata": {},
   "outputs": [],
   "source": []
  }
 ],
 "metadata": {
  "kernelspec": {
   "display_name": "Python 3.10.4 64-bit",
   "language": "python",
   "name": "python3"
  },
  "language_info": {
   "codemirror_mode": {
    "name": "ipython",
    "version": 3
   },
   "file_extension": ".py",
   "mimetype": "text/x-python",
   "name": "python",
   "nbconvert_exporter": "python",
   "pygments_lexer": "ipython3",
   "version": "3.10.4"
  },
  "orig_nbformat": 4,
  "vscode": {
   "interpreter": {
    "hash": "aee8b7b246df8f9039afb4144a1f6fd8d2ca17a180786b69acc140d282b71a49"
   }
  }
 },
 "nbformat": 4,
 "nbformat_minor": 2
}
