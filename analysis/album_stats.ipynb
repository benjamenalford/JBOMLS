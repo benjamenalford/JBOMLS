{
 "cells": [
  {
   "cell_type": "code",
   "execution_count": 73,
   "metadata": {},
   "outputs": [],
   "source": [
    "import pandas as pd"
   ]
  },
  {
   "cell_type": "code",
   "execution_count": 74,
   "metadata": {},
   "outputs": [],
   "source": [
    "playlist_file = \"MP3.tsv\"\n",
    "music_df = pd.read_csv(playlist_file,encoding=\"utf_16_le\",sep=\"\\t\")"
   ]
  },
  {
   "cell_type": "code",
   "execution_count": 75,
   "metadata": {},
   "outputs": [],
   "source": [
    "del music_df['Composer']\n",
    "del music_df['Grouping']\n",
    "del music_df['Work']\n",
    "del music_df['Movement Number']\n",
    "del music_df['Movement Count']\n",
    "del music_df['Movement Name']\n",
    "del music_df['Genre']\n",
    "del music_df['Size']\n",
    "del music_df['Time']\n",
    "del music_df['Year']\n",
    "del music_df['Date Added']\n",
    "del music_df['Date Modified']\n",
    "del music_df['Bit Rate']\n",
    "del music_df['Sample Rate']\n",
    "del music_df['Volume Adjustment']\n",
    "del music_df['Equalizer']\n",
    "del music_df['Comments']\n",
    "del music_df['Plays']\n",
    "del music_df['Last Played']\n",
    "del music_df['Skips']\n",
    "del music_df['Last Skipped']\n",
    "del music_df['My Rating']\n",
    "del music_df['Location']"
   ]
  },
  {
   "cell_type": "code",
   "execution_count": 76,
   "metadata": {},
   "outputs": [],
   "source": [
    "music_df['Disc Count'] = music_df['Disc Count'].fillna(0)\n",
    "music_df['Disc Count'] = music_df['Disc Count'].astype(int)\n",
    "music_df['Disc Number'] = music_df['Disc Number'].fillna(0)\n",
    "music_df['Disc Number'] = music_df['Disc Number'].astype(int)\n",
    "music_df['Track Count'] = music_df['Track Count'].fillna(0)\n",
    "music_df['Track Count'] = music_df['Track Count'].astype(int)\n",
    "music_df['Track Number'] = music_df['Track Number'].fillna(0)\n",
    "music_df['Track Number'] = music_df['Track Number'].astype(int)"
   ]
  },
  {
   "cell_type": "code",
   "execution_count": 77,
   "metadata": {},
   "outputs": [],
   "source": [
    "album_artist_count_df = music_df.groupby(['Album','Artist'])[['Name']].count()\n",
    "album_artist_count_df = album_artist_count_df.reset_index()\n",
    "album_artist_count_df= album_artist_count_df.rename(columns={'Name':'Computed Track Count'})"
   ]
  },
  {
   "cell_type": "code",
   "execution_count": 78,
   "metadata": {},
   "outputs": [],
   "source": [
    "music_df = pd.merge(left=music_df,how=\"left\" ,right=album_artist_count_df, left_on=[\n",
    "         'Album', 'Artist'], right_on=['Album', 'Artist'])\n",
    "music_df['Computed Track Count'] = music_df['Computed Track Count'].fillna(0)\n",
    "music_df['Computed Track Count'] = music_df['Computed Track Count'].astype(int)"
   ]
  },
  {
   "cell_type": "code",
   "execution_count": 82,
   "metadata": {},
   "outputs": [],
   "source": [
    "incomplete_albums_df = music_df.loc[music_df['Computed Track Count'] != music_df['Track Count']]"
   ]
  },
  {
   "cell_type": "code",
   "execution_count": 94,
   "metadata": {},
   "outputs": [
    {
     "data": {
      "text/plain": [
       "Album                                                      Artist         \n",
       "Hearts of Space                                            Hearts of Space    100\n",
       "Hi Fi News & Record Review Test Disc II                    Various Artists     89\n",
       "Live at the Bbc                                            The Beatles         59\n",
       "20th Century Superstar                                     Marc Bolan          58\n",
       "Anthology                                                  John Lennon         56\n",
       "                                                                             ... \n",
       "Men Are like Street Cars... Women Blues Singers 1928-1969  Lovey Lewis          1\n",
       "                                                           Lillian Offitt       1\n",
       "                                                           Lavelle White        1\n",
       "City of Angels (Music from the Motion Picture)             Jude                 1\n",
       " Loaded In Lawrence 2002 (Live From The Bottleneck)        Ghosty               1\n",
       "Length: 2772, dtype: int64"
      ]
     },
     "execution_count": 94,
     "metadata": {},
     "output_type": "execute_result"
    }
   ],
   "source": [
    "incomplete_albums_df[['Album','Artist']].value_counts()"
   ]
  },
  {
   "cell_type": "code",
   "execution_count": 97,
   "metadata": {},
   "outputs": [
    {
     "data": {
      "text/html": [
       "<div>\n",
       "<style scoped>\n",
       "    .dataframe tbody tr th:only-of-type {\n",
       "        vertical-align: middle;\n",
       "    }\n",
       "\n",
       "    .dataframe tbody tr th {\n",
       "        vertical-align: top;\n",
       "    }\n",
       "\n",
       "    .dataframe thead th {\n",
       "        text-align: right;\n",
       "    }\n",
       "</style>\n",
       "<table border=\"1\" class=\"dataframe\">\n",
       "  <thead>\n",
       "    <tr style=\"text-align: right;\">\n",
       "      <th></th>\n",
       "      <th>Name</th>\n",
       "      <th>Artist</th>\n",
       "      <th>Album</th>\n",
       "      <th>Disc Number</th>\n",
       "      <th>Disc Count</th>\n",
       "      <th>Track Number</th>\n",
       "      <th>Track Count</th>\n",
       "      <th>Kind</th>\n",
       "      <th>Computed Track Count</th>\n",
       "    </tr>\n",
       "  </thead>\n",
       "  <tbody>\n",
       "    <tr>\n",
       "      <th>833</th>\n",
       "      <td>Stand by Me</td>\n",
       "      <td>The Beatles</td>\n",
       "      <td>The Complete Rooftop Concert</td>\n",
       "      <td>1</td>\n",
       "      <td>1</td>\n",
       "      <td>18</td>\n",
       "      <td>22</td>\n",
       "      <td>MPEG audio file</td>\n",
       "      <td>1</td>\n",
       "    </tr>\n",
       "    <tr>\n",
       "      <th>914</th>\n",
       "      <td>Lady Madonna</td>\n",
       "      <td>The Beatles</td>\n",
       "      <td>Past Masters - Volume Two</td>\n",
       "      <td>1</td>\n",
       "      <td>1</td>\n",
       "      <td>5</td>\n",
       "      <td>15</td>\n",
       "      <td>MPEG audio file</td>\n",
       "      <td>1</td>\n",
       "    </tr>\n",
       "  </tbody>\n",
       "</table>\n",
       "</div>"
      ],
      "text/plain": [
       "             Name       Artist                         Album  Disc Number  \\\n",
       "833   Stand by Me  The Beatles  The Complete Rooftop Concert            1   \n",
       "914  Lady Madonna  The Beatles     Past Masters - Volume Two            1   \n",
       "\n",
       "     Disc Count  Track Number  Track Count             Kind  \\\n",
       "833           1            18           22  MPEG audio file   \n",
       "914           1             5           15  MPEG audio file   \n",
       "\n",
       "     Computed Track Count  \n",
       "833                     1  \n",
       "914                     1  "
      ]
     },
     "execution_count": 97,
     "metadata": {},
     "output_type": "execute_result"
    }
   ],
   "source": [
    "incomplete_albums_df.loc[music_df['Artist']=='The Beatles'].loc[ music_df['Disc Count'] ==1 ]"
   ]
  }
 ],
 "metadata": {
  "kernelspec": {
   "display_name": "Python 3.10.4 64-bit",
   "language": "python",
   "name": "python3"
  },
  "language_info": {
   "codemirror_mode": {
    "name": "ipython",
    "version": 3
   },
   "file_extension": ".py",
   "mimetype": "text/x-python",
   "name": "python",
   "nbconvert_exporter": "python",
   "pygments_lexer": "ipython3",
   "version": "3.10.4"
  },
  "orig_nbformat": 4,
  "vscode": {
   "interpreter": {
    "hash": "aee8b7b246df8f9039afb4144a1f6fd8d2ca17a180786b69acc140d282b71a49"
   }
  }
 },
 "nbformat": 4,
 "nbformat_minor": 2
}
